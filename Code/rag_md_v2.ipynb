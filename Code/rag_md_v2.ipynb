{
 "cells": [
  {
   "cell_type": "code",
   "execution_count": 1,
   "metadata": {},
   "outputs": [],
   "source": [
    "from langchain.chains import RetrievalQA\n",
    "from langchain_community.document_loaders import (\n",
    "    DirectoryLoader,\n",
    "    UnstructuredMarkdownLoader,\n",
    ")\n",
    "from langchain_community.vectorstores import StarRocks\n",
    "from langchain_community.vectorstores.starrocks import StarRocksSettings\n",
    "from langchain_openai import OpenAI, OpenAIEmbeddings\n",
    "from langchain_text_splitters import TokenTextSplitter,RecursiveCharacterTextSplitter,MarkdownHeaderTextSplitter\n",
    "\n",
    "import os\n",
    "import re\n",
    "import spacy"
   ]
  },
  {
   "cell_type": "code",
   "execution_count": 2,
   "metadata": {},
   "outputs": [
    {
     "name": "stdout",
     "output_type": "stream",
     "text": [
      "1 Markdown documents were loaded.\n",
      "Splits 11\n"
     ]
    }
   ],
   "source": [
    "from langchain_community.document_loaders import (\n",
    "    DirectoryLoader,\n",
    "    UnstructuredMarkdownLoader,\n",
    ")\n",
    "\n",
    "def load_md_directory(dir):\n",
    "\n",
    "    files = os.listdir(dir)\n",
    "    documents_md = []\n",
    "    for i,file in enumerate(files):\n",
    "        \n",
    "        # print(f'reading file {i+1}/{len(files)} - {file}')\n",
    "        file_r = os.path.join(dir_md,file)\n",
    "        loader = UnstructuredMarkdownLoader(file_r,mode='single')\n",
    "        doc = loader.load()\n",
    "        documents_md.append(doc[0])\n",
    "    \n",
    "    print(f'{len(documents_md)} Markdown documents were loaded.')\n",
    "\n",
    "    return documents_md\n",
    "\n",
    "dir_md = 'files/'\n",
    "documents = load_md_directory(dir_md)\n",
    "\n",
    "text_splitter = RecursiveCharacterTextSplitter(chunk_size=1000, chunk_overlap=250)\n",
    "splits_md = text_splitter.split_documents(documents)\n",
    "\n",
    "print(f'Splits {len(splits_md)}')\n"
   ]
  },
  {
   "cell_type": "code",
   "execution_count": 3,
   "metadata": {},
   "outputs": [
    {
     "data": {
      "text/plain": [
       "[Document(page_content='The 50/30/20 rule: how to budget your money more efficiently\\n\\nBudgeting doesn’t need to be complicated, nor should it take hours out of your day. In fact, the best ways to budget are often the simplest. Take, for example, the 50/30/20 rule. The 50/30/20 rule is a straightforward monthly budgeting method that tells you exactly how much to put towards your savings and your living costs each month.\\nWith a clear big-picture overview of your budget for the month, you can confidently avoid overspending and build up your\\nsavings over time—all without painstakingly recording every\\nsingle transaction.\\n\\xa0\\nSo, if you’ve ever downloaded a budgeting app only to abandon\\nit by the third day, you might want to give the 50/30/20 method\\na try. It’s one of the best budgeting tips we’ve found, and\\nhere’s how it works.\\n\\nWhat is the 50/30/20 rule?', metadata={'source': 'files/503020budgetrule.md'}),\n",
       " Document(page_content='The 50/30/20 rule is an easy budgeting method that can help you\\nto manage your money effectively, simply and sustainably. The\\nbasic rule of thumb is to divide your monthly after-tax income\\ninto three spending categories: 50% for needs, 30% for wants and 20% for savings or paying off debt.\\n\\xa0\\nBy regularly keeping your expenses balanced across these main\\nspending areas, you can put your money to work more\\nefficiently. And with only three major categories to track, you\\ncan save yourself the time and stress of digging into the\\ndetails every time you spend.\\n\\xa0\\nHowever, the 50/30/20 rule should only be used as a rule of thumb for budget planning. The exact percentages for each category depend on your personal financial situation, local cost of living, inflation, and many other factors.\\n\\xa0\\nOne question we hear a lot when it comes to budgeting is, “Why\\ncan’t I save more?” The 50/30/20 rule is a great way to solve\\nthat age-old riddle and build more structure into your spending', metadata={'source': 'files/503020budgetrule.md'}),\n",
       " Document(page_content='One question we hear a lot when it comes to budgeting is, “Why\\ncan’t I save more?” The 50/30/20 rule is a great way to solve\\nthat age-old riddle and build more structure into your spending\\nhabits. It can make it easier to reach your financial goals,\\nwhether you’re saving up for a rainy day or working to pay off\\ndebt.', metadata={'source': 'files/503020budgetrule.md'}),\n",
       " Document(page_content='Where did the 50/30/20 rule come from?\\n\\nThe 50/30/20 rule originates from the 2005 book, “All Your\\nWorth: The Ultimate Lifetime Money Plan,” written by current US\\nSenator Elizabeth Warren and her daughter, Amelia Warren Tyagi.\\n\\xa0\\nReferencing over 20 years of research, Warren and Tyagi\\nconclude that you don’t need a complicated budget to get your\\nfinances in check. All you need to do is balance your money\\nacross your needs, wants and savings goals by using the\\n50/30/20 rule.\\n\\nHow to budget your money with the 50/30/20 rule\\n\\nThe 50/30/20 rule simplifies budgeting by dividing your\\nafter-tax income into just three spending categories: needs,\\nwants and savings or debts.\\n\\xa0\\nKnowing exactly how much to spend on each category will make it\\neasier to stick to your budget, and help keep your spending in\\ncheck. Here’s what a budget that adheres to the 50/30/20 rule\\nlooks like:\\n\\nSpend 50% of your money on needs', metadata={'source': 'files/503020budgetrule.md'}),\n",
       " Document(page_content='Spend 50% of your money on needs\\n\\nSimply put, needs are expenses that you can’t avoid—payments\\nfor all the essentials that would be difficult to live without.\\n50% of your after-tax income should cover your most necessary\\ncosts.\\n\\xa0\\nNeeds may include:\\n\\xa0 * Monthly rent\\n\\xa0 * Electricity and gas bills\\n\\xa0 * Transportation\\n\\xa0 * Insurances (for healthcare, car, or pets)\\n\\xa0 * Minimum loan repayments\\n\\xa0 * Basic groceries\\n\\xa0\\nFor example, if your monthly after-tax income is €2000, €1000\\nshould be allocated to your needs.\\n\\xa0\\nThis budget may differ from one person to another. If you find\\nthat your needs add up to much more than 50% of your take-home\\nincome, you may be able to make some changes to bring those\\nexpenses down a bit. This could be as simple as swapping to\\na different energy provider, or finding some new ways to\\nsave money while grocery shopping. It could also mean\\ndeeper life changes, such as looking for a less-expensive\\nliving situation.\\n\\nSpend 30% of your money on wants', metadata={'source': 'files/503020budgetrule.md'}),\n",
       " Document(page_content='With 50% of your after-tax income taking care of your most\\nbasic needs, 30% of your after-tax income can be used to cover\\nyour wants. Wants are defined as non-essential expenses—things\\nthat you choose to spend your money on, although you could live\\nwithout them if you had to.\\n\\xa0\\nThese may include:\\n\\xa0 * Dining out\\n\\xa0 * Clothes shopping\\n\\xa0 * Holidays\\n\\xa0 * Gym membership\\n\\xa0 * Entertainment subscriptions (Netflix, HBO, Amazon Prime)\\n\\xa0 * Groceries (other than the essentials)\\n\\xa0\\nUsing the same example as above, if your monthly after-tax\\nincome is €2000, you can spend €600 for your wants. And if you\\ndiscover that you’re spending too much on your wants, it’s\\nworth thinking about which of those you could cut back on.\\n\\xa0\\nAs a side note, following the 50/30/20 rule doesn’t mean not\\nbeing able to enjoy your life. It simply means being more\\nconscious about your money by finding areas in your budget\\nwhere you’re needlessly overspending. If you’re confused about', metadata={'source': 'files/503020budgetrule.md'}),\n",
       " Document(page_content='As a side note, following the 50/30/20 rule doesn’t mean not\\nbeing able to enjoy your life. It simply means being more\\nconscious about your money by finding areas in your budget\\nwhere you’re needlessly overspending. If you’re confused about\\nwhether something is a need or a want, simply ask yourself,\\n“Could I live without this?” If the answer is yes, that’s\\nprobably a want.', metadata={'source': 'files/503020budgetrule.md'}),\n",
       " Document(page_content='Stash 20% of your money for savings\\n\\nWith 50% of your monthly income going towards your needs and\\n30% allocated to your wants, the remaining 20% can be put\\ntowards achieving your savings goals, or paying back any\\noutstanding debts. Although minimum repayments are considered\\nneeds, any extra repayments reduce your existing debt and\\nfuture interest, so they are classified as savings.\\n\\xa0\\nConsistently putting aside 20% of your pay each month can help\\nyou build a better, more durable savings plan. This is true\\nwhether your ultimate goal is building an emergency fund,\\ndeveloping a long-term personal financial plan, or even\\npreparing for a down payment on a house.\\n\\xa0\\nAnd it’s impressive how quickly the savings can add up. If you\\nbring home €2000 after tax each month, you could put €400\\ntowards your savings goals. In just a year, you’ll have saved\\nclose to €5000!\\n\\nHow to apply the 50/30/20 rule: a step-by-step guide', metadata={'source': 'files/503020budgetrule.md'}),\n",
       " Document(page_content='How to apply the 50/30/20 rule: a step-by-step guide\\n\\nSo, how do you actually use the 50/30/20 rule? To put this\\nsimple budgeting rule into action, you’ll have to calculate the\\n50/30/20 ratio based on your income and categorize your\\nspending. Here’s how:\\n\\n1. Calculate your after-tax income\\n\\nThe first step to using the 50/30/20 budgeting rule is to\\ncalculate your after-tax income. If you’re a freelancer, your\\nafter-tax income will be what you earn in a month, minus your\\nbusiness expenses and the amount you’ve set aside for taxes.\\n\\xa0\\nIf you’re an employee with a steady paycheck, this will be\\neasier. Take a look at your payslip to see how much lands in\\nyour bank account each month. If your paycheck automatically\\ndeducts payments such as health insurance or pension funds, add\\nthem back in.\\n\\n2. Categorize your spending for the past month', metadata={'source': 'files/503020budgetrule.md'}),\n",
       " Document(page_content='2. Categorize your spending for the past month\\n\\nTo get a true picture of where your money goes each month,\\nyou’ll need to see how and where you’ve spent your income over\\nthe past month. Grab a copy of your bank statement for the past\\n30 days, or simply use the Insights feature in your N26\\napp. It automatically sorts all your transactions into\\ncategories such as Salary, Food & Groceries, Leisure &\\nEntertainment, and more.\\n\\xa0\\n\\xa0\\nNow, split all your expenses into the three categories: needs,\\nwants and savings. Remember, a need is an essential expense\\nthat you can’t live without, such as rent. A want is an\\nadditional luxury that you could live without, such as dining\\nout. And savings are additional debt repayments, retirement\\ncontributions to your pension fund, or money that you’re saving\\nfor a rainy day.\\n\\n3. Evaluate and adjust your spending to match the 50/30/20 rule', metadata={'source': 'files/503020budgetrule.md'}),\n",
       " Document(page_content='3. Evaluate and adjust your spending to match the 50/30/20 rule\\n\\nNow that you can see how much of your money goes towards your\\nneeds, wants and savings each month, you can start to adjust\\nyour budget to match the 50/30/20 rule. The best way to do this\\nis to assess how much you spend on your wants every month.\\n\\xa0\\nAccording to the 50/30/20 rule, a want is not extravagant—it’s\\na basic nicety that allows you to enjoy life. As cutting back\\non your needs can be a complex and challenging task, it’s best\\nto work out which of your wants you can cut back on to stay\\nwithin 30% of your take-home income. The more you reduce\\nspending on your wants, the more likely it is that you’ll be\\nable to hit your 20% savings target.\\n\\xa0\\nLink: https://n26.com/en-eu/blog/50-30-20-rule', metadata={'source': 'files/503020budgetrule.md'})]"
      ]
     },
     "execution_count": 3,
     "metadata": {},
     "output_type": "execute_result"
    }
   ],
   "source": [
    "splits_md"
   ]
  },
  {
   "cell_type": "code",
   "execution_count": 4,
   "metadata": {},
   "outputs": [],
   "source": [
    "from chromadb.utils.embedding_functions import OpenAIEmbeddingFunction\n",
    "import chromadb\n",
    "\n",
    "client = chromadb.PersistentClient(path=\"storage\")\n",
    "\n",
    "os.environ[\"OPENAI_API_KEY\"] = ''\n",
    "EMBEDDING_MODEL = 'text-embedding-3-small'\n",
    "\n",
    "embedding_function = OpenAIEmbeddingFunction(api_key=os.environ.get('OPENAI_API_KEY'), model_name=EMBEDDING_MODEL)\n",
    "\n",
    "col = client.get_or_create_collection(\"rag_system\",embedding_function = embedding_function)\n",
    "\n",
    "\n"
   ]
  },
  {
   "cell_type": "code",
   "execution_count": 5,
   "metadata": {},
   "outputs": [
    {
     "name": "stdout",
     "output_type": "stream",
     "text": [
      "registers 11\n"
     ]
    }
   ],
   "source": [
    "col.add(ids = [f\"id_{i}\" for i in range(len(splits_md))],\n",
    "    documents= [doc.page_content for doc in splits_md],\n",
    "    metadatas=[doc.metadata for doc in splits_md])\n",
    "\n",
    "print(f'registers {col.count()}')"
   ]
  },
  {
   "cell_type": "code",
   "execution_count": 7,
   "metadata": {},
   "outputs": [],
   "source": [
    "import pandas as pd\n",
    "\n",
    "def query_collection(collection, query, max_results):\n",
    "    results = collection.query(query_texts=query, n_results=max_results, include=['metadatas','documents','distances']) \n",
    "    \n",
    "    return results"
   ]
  },
  {
   "cell_type": "code",
   "execution_count": 8,
   "metadata": {},
   "outputs": [
    {
     "data": {
      "text/plain": [
       "{'ids': [['id_0',\n",
       "   'id_1',\n",
       "   'id_2',\n",
       "   'id_10',\n",
       "   'id_9',\n",
       "   'id_8',\n",
       "   'id_4',\n",
       "   'id_3',\n",
       "   'id_7',\n",
       "   'id_5']],\n",
       " 'distances': [[0.7511122090804999,\n",
       "   0.9017633848982403,\n",
       "   0.9068933903935067,\n",
       "   0.9351686947866521,\n",
       "   0.9472874484522491,\n",
       "   0.9660680816542415,\n",
       "   0.9671269928241254,\n",
       "   1.0239775192027702,\n",
       "   1.045755434427398,\n",
       "   1.0989073254178041]],\n",
       " 'metadatas': [[{'source': 'files/503020budgetrule.md'},\n",
       "   {'source': 'files/503020budgetrule.md'},\n",
       "   {'source': 'files/503020budgetrule.md'},\n",
       "   {'source': 'files/503020budgetrule.md'},\n",
       "   {'source': 'files/503020budgetrule.md'},\n",
       "   {'source': 'files/503020budgetrule.md'},\n",
       "   {'source': 'files/503020budgetrule.md'},\n",
       "   {'source': 'files/503020budgetrule.md'},\n",
       "   {'source': 'files/503020budgetrule.md'},\n",
       "   {'source': 'files/503020budgetrule.md'}]],\n",
       " 'embeddings': None,\n",
       " 'documents': [['The 50/30/20 rule: how to budget your money more efficiently\\n\\nBudgeting doesn’t need to be complicated, nor should it take hours out of your day. In fact, the best ways to budget are often the simplest. Take, for example, the 50/30/20 rule. The 50/30/20 rule is a straightforward monthly budgeting method that tells you exactly how much to put towards your savings and your living costs each month.\\nWith a clear big-picture overview of your budget for the month, you can confidently avoid overspending and build up your\\nsavings over time—all without painstakingly recording every\\nsingle transaction.\\n\\xa0\\nSo, if you’ve ever downloaded a budgeting app only to abandon\\nit by the third day, you might want to give the 50/30/20 method\\na try. It’s one of the best budgeting tips we’ve found, and\\nhere’s how it works.\\n\\nWhat is the 50/30/20 rule?',\n",
       "   'The 50/30/20 rule is an easy budgeting method that can help you\\nto manage your money effectively, simply and sustainably. The\\nbasic rule of thumb is to divide your monthly after-tax income\\ninto three spending categories: 50% for needs, 30% for wants and 20% for savings or paying off debt.\\n\\xa0\\nBy regularly keeping your expenses balanced across these main\\nspending areas, you can put your money to work more\\nefficiently. And with only three major categories to track, you\\ncan save yourself the time and stress of digging into the\\ndetails every time you spend.\\n\\xa0\\nHowever, the 50/30/20 rule should only be used as a rule of thumb for budget planning. The exact percentages for each category depend on your personal financial situation, local cost of living, inflation, and many other factors.\\n\\xa0\\nOne question we hear a lot when it comes to budgeting is, “Why\\ncan’t I save more?” The 50/30/20 rule is a great way to solve\\nthat age-old riddle and build more structure into your spending',\n",
       "   'One question we hear a lot when it comes to budgeting is, “Why\\ncan’t I save more?” The 50/30/20 rule is a great way to solve\\nthat age-old riddle and build more structure into your spending\\nhabits. It can make it easier to reach your financial goals,\\nwhether you’re saving up for a rainy day or working to pay off\\ndebt.',\n",
       "   '3. Evaluate and adjust your spending to match the 50/30/20 rule\\n\\nNow that you can see how much of your money goes towards your\\nneeds, wants and savings each month, you can start to adjust\\nyour budget to match the 50/30/20 rule. The best way to do this\\nis to assess how much you spend on your wants every month.\\n\\xa0\\nAccording to the 50/30/20 rule, a want is not extravagant—it’s\\na basic nicety that allows you to enjoy life. As cutting back\\non your needs can be a complex and challenging task, it’s best\\nto work out which of your wants you can cut back on to stay\\nwithin 30% of your take-home income. The more you reduce\\nspending on your wants, the more likely it is that you’ll be\\nable to hit your 20% savings target.\\n\\xa0\\nLink: https://n26.com/en-eu/blog/50-30-20-rule',\n",
       "   '2. Categorize your spending for the past month\\n\\nTo get a true picture of where your money goes each month,\\nyou’ll need to see how and where you’ve spent your income over\\nthe past month. Grab a copy of your bank statement for the past\\n30 days, or simply use the Insights feature in your N26\\napp. It automatically sorts all your transactions into\\ncategories such as Salary, Food & Groceries, Leisure &\\nEntertainment, and more.\\n\\xa0\\n\\xa0\\nNow, split all your expenses into the three categories: needs,\\nwants and savings. Remember, a need is an essential expense\\nthat you can’t live without, such as rent. A want is an\\nadditional luxury that you could live without, such as dining\\nout. And savings are additional debt repayments, retirement\\ncontributions to your pension fund, or money that you’re saving\\nfor a rainy day.\\n\\n3. Evaluate and adjust your spending to match the 50/30/20 rule',\n",
       "   'How to apply the 50/30/20 rule: a step-by-step guide\\n\\nSo, how do you actually use the 50/30/20 rule? To put this\\nsimple budgeting rule into action, you’ll have to calculate the\\n50/30/20 ratio based on your income and categorize your\\nspending. Here’s how:\\n\\n1. Calculate your after-tax income\\n\\nThe first step to using the 50/30/20 budgeting rule is to\\ncalculate your after-tax income. If you’re a freelancer, your\\nafter-tax income will be what you earn in a month, minus your\\nbusiness expenses and the amount you’ve set aside for taxes.\\n\\xa0\\nIf you’re an employee with a steady paycheck, this will be\\neasier. Take a look at your payslip to see how much lands in\\nyour bank account each month. If your paycheck automatically\\ndeducts payments such as health insurance or pension funds, add\\nthem back in.\\n\\n2. Categorize your spending for the past month',\n",
       "   'Spend 50% of your money on needs\\n\\nSimply put, needs are expenses that you can’t avoid—payments\\nfor all the essentials that would be difficult to live without.\\n50% of your after-tax income should cover your most necessary\\ncosts.\\n\\xa0\\nNeeds may include:\\n\\xa0 * Monthly rent\\n\\xa0 * Electricity and gas bills\\n\\xa0 * Transportation\\n\\xa0 * Insurances (for healthcare, car, or pets)\\n\\xa0 * Minimum loan repayments\\n\\xa0 * Basic groceries\\n\\xa0\\nFor example, if your monthly after-tax income is €2000, €1000\\nshould be allocated to your needs.\\n\\xa0\\nThis budget may differ from one person to another. If you find\\nthat your needs add up to much more than 50% of your take-home\\nincome, you may be able to make some changes to bring those\\nexpenses down a bit. This could be as simple as swapping to\\na different energy provider, or finding some new ways to\\nsave money while grocery shopping. It could also mean\\ndeeper life changes, such as looking for a less-expensive\\nliving situation.\\n\\nSpend 30% of your money on wants',\n",
       "   'Where did the 50/30/20 rule come from?\\n\\nThe 50/30/20 rule originates from the 2005 book, “All Your\\nWorth: The Ultimate Lifetime Money Plan,” written by current US\\nSenator Elizabeth Warren and her daughter, Amelia Warren Tyagi.\\n\\xa0\\nReferencing over 20 years of research, Warren and Tyagi\\nconclude that you don’t need a complicated budget to get your\\nfinances in check. All you need to do is balance your money\\nacross your needs, wants and savings goals by using the\\n50/30/20 rule.\\n\\nHow to budget your money with the 50/30/20 rule\\n\\nThe 50/30/20 rule simplifies budgeting by dividing your\\nafter-tax income into just three spending categories: needs,\\nwants and savings or debts.\\n\\xa0\\nKnowing exactly how much to spend on each category will make it\\neasier to stick to your budget, and help keep your spending in\\ncheck. Here’s what a budget that adheres to the 50/30/20 rule\\nlooks like:\\n\\nSpend 50% of your money on needs',\n",
       "   'Stash 20% of your money for savings\\n\\nWith 50% of your monthly income going towards your needs and\\n30% allocated to your wants, the remaining 20% can be put\\ntowards achieving your savings goals, or paying back any\\noutstanding debts. Although minimum repayments are considered\\nneeds, any extra repayments reduce your existing debt and\\nfuture interest, so they are classified as savings.\\n\\xa0\\nConsistently putting aside 20% of your pay each month can help\\nyou build a better, more durable savings plan. This is true\\nwhether your ultimate goal is building an emergency fund,\\ndeveloping a long-term personal financial plan, or even\\npreparing for a down payment on a house.\\n\\xa0\\nAnd it’s impressive how quickly the savings can add up. If you\\nbring home €2000 after tax each month, you could put €400\\ntowards your savings goals. In just a year, you’ll have saved\\nclose to €5000!\\n\\nHow to apply the 50/30/20 rule: a step-by-step guide',\n",
       "   'With 50% of your after-tax income taking care of your most\\nbasic needs, 30% of your after-tax income can be used to cover\\nyour wants. Wants are defined as non-essential expenses—things\\nthat you choose to spend your money on, although you could live\\nwithout them if you had to.\\n\\xa0\\nThese may include:\\n\\xa0 * Dining out\\n\\xa0 * Clothes shopping\\n\\xa0 * Holidays\\n\\xa0 * Gym membership\\n\\xa0 * Entertainment subscriptions (Netflix, HBO, Amazon Prime)\\n\\xa0 * Groceries (other than the essentials)\\n\\xa0\\nUsing the same example as above, if your monthly after-tax\\nincome is €2000, you can spend €600 for your wants. And if you\\ndiscover that you’re spending too much on your wants, it’s\\nworth thinking about which of those you could cut back on.\\n\\xa0\\nAs a side note, following the 50/30/20 rule doesn’t mean not\\nbeing able to enjoy your life. It simply means being more\\nconscious about your money by finding areas in your budget\\nwhere you’re needlessly overspending. If you’re confused about']],\n",
       " 'uris': None,\n",
       " 'data': None}"
      ]
     },
     "execution_count": 8,
     "metadata": {},
     "output_type": "execute_result"
    }
   ],
   "source": [
    "query_collection(col,'How can I budget easily?',max_results=10)"
   ]
  },
  {
   "cell_type": "code",
   "execution_count": 103,
   "metadata": {},
   "outputs": [],
   "source": [
    "r =query_collection(col,'Was sind Effizienzhäuser?',max_results=10)"
   ]
  },
  {
   "cell_type": "code",
   "execution_count": 111,
   "metadata": {},
   "outputs": [
    {
     "name": "stdout",
     "output_type": "stream",
     "text": [
      "[0.6326306462287903, 0.7478874921798706, 0.7492695450782776, 0.8539144396781921, 0.8739721179008484, 0.8822094202041626, 0.8912213444709778, 0.9006096720695496, 0.9024194478988647, 0.9025322794914246]\n",
      "[{'source': 'md_processed_files/Richtlinie_BEG_EM_2023-12-21.md'}, {'source': 'md_processed_files/Richtlinie_BEG_EM_2023-12-21.md'}, {'source': 'md_processed_files/Richtlinie_BEG_EM_2023-12-21.md'}, {'source': 'md_processed_files/faq_bundesfoerderung_fuer_effiziente_gebaeude.md'}, {'source': 'md_processed_files/Technische_FAQ_BEG_EM_5_2023-03-13_full.md'}, {'source': 'md_processed_files/faq_bundesfoerderung_fuer_effiziente_gebaeude.md'}, {'source': 'md_processed_files/Technische_FAQ_BEG_EM_5_2023-03-13_full.md'}, {'source': 'md_processed_files/Richtlinie_BEG_EM_2023-12-21.md'}, {'source': 'md_processed_files/Richtlinie_BEG_EM_2023-12-21.md'}, {'source': 'md_processed_files/Richtlinie_BEG_EM_2023-12-21.md'}]\n",
      "['id_537', 'id_722', 'id_538', 'id_491', 'id_150', 'id_493', 'id_55', 'id_761', 'id_718', 'id_561']\n",
      "['Anlagen zur Heizungsunterstützung, die erneuerbare Energien nutzen (zum Beispiel Umweltwärme, Geothermie),\\nder Einbau von Geräten zur digitalen Energieverbrauchsoptimierung, oder die Errichtung eines Wärmespeichers\\nneben dem Gebäude;\\nf) „Effizienzhäuser“: Wohngebäude und Nichtwohngebäude, die sich durch eine energetisch optimierte Bauweise\\nund Anlagentechnik auszeichnen und die die mit der BEG-Förderrichtlinie festgelegten technischen Mindestanfor-\\nderungen an die Gesamtenergieeffizienz (Bezugsgröße: Primärenergiebedarf QP) und an die Energieeffizienz der\\nGebäudehülle (Bezugsgröße Nichtwohngebäude: Mittelwerte der Wärmedurchgangskoeffizienten Ū, Bezugsgröße\\nWohngebäude: Transmissionswärmeverlust HT`) für eine Effizienzhaus(EH)-Stufe erreichen;', 'weise zur Verbesserung der Netzdienlichkeit der technischen Anlagen des Gebäudes („Efficiency Smart Home“)\\nGefördert wird die Umsetzung von Maßnahmen zur Betriebsoptimierung durch elektronische Systeme mit dem Ziel\\nder Verbesserung der Energieeffizienz beziehungsweise der Netzdienlichkeit der technischen Anlagen in einem\\nGebäude (Heizung, Trinkwarmwasserbereitung, Lüftungs-/Klimatechnik, Beleuchtung et cetera). Eine Verbrauchs-\\noptimierung kann dabei auch durch verbesserte Nutzerinformation erreicht werden. Dafür muss mindestens je Wohn-\\neinheit der Energieverbrauch erfasst und dem Nutzer über ein Interface visualisiert werden.\\nSysteme zur Verbesserung der Netzdienlichkeit müssen sicherstellen, dass energiewirtschaftlich relevante Mess- und', 'Gebäudehülle (Bezugsgröße Nichtwohngebäude: Mittelwerte der Wärmedurchgangskoeffizienten Ū, Bezugsgröße\\nWohngebäude: Transmissionswärmeverlust HT`) für eine Effizienzhaus(EH)-Stufe erreichen;\\ng) „Energieeffizienz-Experten“: alle in der Expertenliste unter www.energie-effizienz-experten.de in den Kategorien\\n„BEG – Wohngebäude“, „BEG – Nichtwohngebäude“, „BEG – Wohngebäude Denkmal“ und „BEG – Nichtwohn-\\ngebäude Denkmal“ geführten Personen;\\nh) „Erneuerbare Energien“: Energie nach § 3 Absatz 2 GEG;\\ni) „Etagenheizung“: Wärmeerzeuger auf Basis von Gas oder fossilen Energieträgern, der in einem Mehrfamilienhaus\\neine einzelne Wohneinheit oder ein einzelnes Stockwerk mit Wärme versorgt und in der zu versorgenden Wohn-', '4.9 Sind bei einer Sanierung Wechsel in eine bessere oder schlechtere Effizienzhaus-Stufe möglich?', 'Beschreibung:  Die gemessenen Energieverbräuche und Wärmemengen eines förderfähigen Wärmeerzeugers können entweder über dessen Display/Nutzerinterface, ein übergeordnetes Energiemanagementsystem, ein externes Gerät oder eine externe Applikation angezeigt werden. Die Effizienzanzeige ist so auszugestalten, dass Energieverbräuche und erzeugte Wärmemengen mit den Werten vorheriger Heizperioden bzw. vergleichbarer Betriebszeiträume verglichen werden können. Ausnahmen: \\uf0b7 Bei förderfähigen Biomasseheizungen besteht keine Effizienzanzeigepflicht. Es müssen lediglich die erzeugten Wärmemengen gemessen werden. \\uf0b7 Bei Biomasseheizungen in Gebäudenetzen müssen lediglich die erzeugten Wärmemengen gemessen werden. Eine Effizienzanzeigepflicht besteht ab dem 1. Januar 2025. \\uf0b7 Bei förderfähigen', 'Ein Wechsel in eine höhere Effizienzhaus-Stufe ist durch einen Verzicht auf die erste Zusage und eine erneute Antragstellung möglich. Dabei gelten auch für den erneuten Antrag die Bedingungen zum Vorhabenbeginn (Abschluss eines der Ausführung zuzurechnenden Lieferungs- oder Leistungsvertrags).\\nÄndert sich die Effizienzhaus-Stufe, handelt es sich um ein geändertes Vorhaben. Wird eine Effizienzhaus-Stufe um eine EE- oder NH-Klasse ergänzt oder fällt eine EE- oder NH-Klasse weg, gilt dies ebenfalls als geändertes Vorhaben. Dadurch kommt die Regelung zur Einhaltung einer Sperrfrist nicht zum Einsatz.', 'eine individuelle Beurteilung vorzunehmen und zu dokumentieren. Dabei sprechen insbesondere eine selbständige Nutzbarkeit und ein trennbarer räumlicher und funktionaler Zusammenhang für das Vorliegen eines Gebäudes. Eine Hilfestellung zur Anwendung der o. g. Kriterien gibt FAQ 10 b der Liste häufig gestellter Fragen zu Energieausweisen im Info‑Portal Energieeinsparung des BBSR. (siehe auch TFAQ 8.32 „Gebäudenetz, Anzahl Gebäude und Wohneinheiten“)', '145 %\\n125 %\\nWärmequelle Erdwärme\\n180 %\\n140 %\\nWärmequelle Wasser\\n180 %\\n140 %\\nSonstige Wärmequellen\\n(zum Beispiel Abwärme, Solarwärme)\\n180 %\\n140 %\\nWärmepumpen – Beheizung über Luft\\nDie „jahreszeitbedingte Raumheizungs-Energieeffizienz“ ƞs (= ETAs) beziehungsweise der „Raumheizungs-Jahres-\\nnutzungsgrad“ ƞs, h (= ETAs, h) gemäß Öko-Design-Richtlinie förderfähiger Wärmepumpen muss bei durchschnittlichen\\nKlimaverhältnissen mindestens folgende Werte erreichen:\\nWärmepumpen ≤ 12 kW (Wärmequelle Luft)\\nƞs ≥ 181 %\\nEffizienzklasse A++ oder A+++\\nWärmepumpen > 12 kW (alle Wärmequellen)\\nƞs, h ≥ 150 %\\n* Heizleistung, bei Geräten mit Kühlfunktion Kühlleistung (siehe EU 206/2012).', 'Wohngebäude:\\n– Bestätigung eines Experten der Energieeffizienz-Experten-Liste (www.energie-effizienz-experten.de)\\n– Herstellernachweise zu den Produktmerkmalen entsprechend den oben beschriebenen Funktionen der jeweils ein-\\ngesetzten Technik oder\\n– Bestätigung der oben beschriebenen Funktionen oder Eigenschaften der jeweils eingesetzten Technik (zum Beispiel\\nFachunternehmererklärung)\\n– vorhabenbezogene Rechnungen und Nachweise über die geleisteten Zahlungen, Aufstellung der förderfähigen\\nInvestitionsmaßnahmen und -ausgaben\\nNichtwohngebäude:\\n– Bestätigung eines Experten der Energieeffizienz-Experten-Liste (www.energie-effizienz-experten.de)\\n– Herstellernachweis zu den produktspezifischen Kenndaten (wie zum Beispiel Wärmerückgewinnungsklasse, Dicht-', 'Gefördert wird der Einbau von Anlagentechnik in Bestandsgebäuden zur Erhöhung der Energieeffizienz des Gebäu-\\ndes, darunter:\\na) Einbau, Austausch oder Optimierung raumlufttechnischer Anlagen inklusive Wärme-/Kälterückgewinnung;\\nb) bei Wohngebäuden: Einbau digitaler Systeme zur energetischen Betriebs- und Verbrauchsoptimierung bezie-\\nhungsweise zur Verbesserung der Netzdienlichkeit der technischen Anlagen des Gebäudes („Efficiency Smart\\nHome“) oder des angeschlossenen Gebäudenetzes im Sinne von Nummer 5.3 Buchstabe h;\\nc) bei Nichtwohngebäuden: Einbau von Mess-, Steuer- und Regelungstechnik zur Realisierung eines Gebäude-\\nautomatisierungsgrades mindestens der Klasse B nach DIN V 18599-11;\\nd) bei Nichtwohngebäuden: Kältetechnik zur Raumkühlung;']\n"
     ]
    }
   ],
   "source": [
    "print(r['distances'][0])\n",
    "print(r['metadatas'][0])\n",
    "print(r['ids'][0])\n",
    "print(r['documents'][0])"
   ]
  },
  {
   "cell_type": "code",
   "execution_count": 129,
   "metadata": {},
   "outputs": [
    {
     "name": "stdout",
     "output_type": "stream",
     "text": [
      "distance 0.6326306462287903\n",
      "distance 0.7478874921798706\n",
      "distance 0.7492695450782776\n",
      "distance 0.8539144396781921\n",
      "distance 0.8739721179008484\n",
      "distance 0.8822094202041626\n",
      "distance 0.8912213444709778\n",
      "distance 0.9006096720695496\n",
      "distance 0.9024194478988647\n",
      "distance 0.9025322794914246\n",
      "{'id': 'id_537', 'distance': 0.6326306462287903, 'text': 'Anlagen zur Heizungsunterstützung, die erneuerbare Energien nutzen (zum Beispiel Umweltwärme, Geothermie),\\nder Einbau von Geräten zur digitalen Energieverbrauchsoptimierung, oder die Errichtung eines Wärmespeichers\\nneben dem Gebäude;\\nf) „Effizienzhäuser“: Wohngebäude und Nichtwohngebäude, die sich durch eine energetisch optimierte Bauweise\\nund Anlagentechnik auszeichnen und die die mit der BEG-Förderrichtlinie festgelegten technischen Mindestanfor-\\nderungen an die Gesamtenergieeffizienz (Bezugsgröße: Primärenergiebedarf QP) und an die Energieeffizienz der\\nGebäudehülle (Bezugsgröße Nichtwohngebäude: Mittelwerte der Wärmedurchgangskoeffizienten Ū, Bezugsgröße\\nWohngebäude: Transmissionswärmeverlust HT`) für eine Effizienzhaus(EH)-Stufe erreichen;', 'metadata': {'source': 'md_processed_files/Richtlinie_BEG_EM_2023-12-21.md'}}\n",
      "{'id': 'id_722', 'distance': 0.7478874921798706, 'text': 'weise zur Verbesserung der Netzdienlichkeit der technischen Anlagen des Gebäudes („Efficiency Smart Home“)\\nGefördert wird die Umsetzung von Maßnahmen zur Betriebsoptimierung durch elektronische Systeme mit dem Ziel\\nder Verbesserung der Energieeffizienz beziehungsweise der Netzdienlichkeit der technischen Anlagen in einem\\nGebäude (Heizung, Trinkwarmwasserbereitung, Lüftungs-/Klimatechnik, Beleuchtung et cetera). Eine Verbrauchs-\\noptimierung kann dabei auch durch verbesserte Nutzerinformation erreicht werden. Dafür muss mindestens je Wohn-\\neinheit der Energieverbrauch erfasst und dem Nutzer über ein Interface visualisiert werden.\\nSysteme zur Verbesserung der Netzdienlichkeit müssen sicherstellen, dass energiewirtschaftlich relevante Mess- und', 'metadata': {'source': 'md_processed_files/Richtlinie_BEG_EM_2023-12-21.md'}}\n",
      "{'id': 'id_538', 'distance': 0.7492695450782776, 'text': 'Gebäudehülle (Bezugsgröße Nichtwohngebäude: Mittelwerte der Wärmedurchgangskoeffizienten Ū, Bezugsgröße\\nWohngebäude: Transmissionswärmeverlust HT`) für eine Effizienzhaus(EH)-Stufe erreichen;\\ng) „Energieeffizienz-Experten“: alle in der Expertenliste unter www.energie-effizienz-experten.de in den Kategorien\\n„BEG – Wohngebäude“, „BEG – Nichtwohngebäude“, „BEG – Wohngebäude Denkmal“ und „BEG – Nichtwohn-\\ngebäude Denkmal“ geführten Personen;\\nh) „Erneuerbare Energien“: Energie nach § 3 Absatz 2 GEG;\\ni) „Etagenheizung“: Wärmeerzeuger auf Basis von Gas oder fossilen Energieträgern, der in einem Mehrfamilienhaus\\neine einzelne Wohneinheit oder ein einzelnes Stockwerk mit Wärme versorgt und in der zu versorgenden Wohn-', 'metadata': {'source': 'md_processed_files/Richtlinie_BEG_EM_2023-12-21.md'}}\n"
     ]
    }
   ],
   "source": [
    "for i in r['distances'][0]:\n",
    "    print(f'distance {i}')\n",
    "\n",
    "distances = r['distances'][0]\n",
    "documents = r['documents'][0]\n",
    "ids = r['ids'][0]\n",
    "metadatas = r['metadatas'][0]\n",
    "\n",
    "# Define keys for the dictionaries\n",
    "keys = ['id', 'distance', 'text', 'metadata']\n",
    "\n",
    "# Combine lists using zip and create a list of dictionaries\n",
    "results2 = [dict(zip(keys, values)) for values in zip(ids, distances, documents, metadatas)]\n",
    "\n",
    "# Define the threshold for filtering\n",
    "distance_threshold = 0.8\n",
    "\n",
    "# Apply the filter using a list comprehension\n",
    "filtered_data = [item for item in results2 if item['distance'] < distance_threshold]\n",
    "\n",
    "for j in filtered_data:\n",
    "    print(j)"
   ]
  }
 ],
 "metadata": {
  "kernelspec": {
   "display_name": "rag_unstructured",
   "language": "python",
   "name": "python3"
  },
  "language_info": {
   "codemirror_mode": {
    "name": "ipython",
    "version": 3
   },
   "file_extension": ".py",
   "mimetype": "text/x-python",
   "name": "python",
   "nbconvert_exporter": "python",
   "pygments_lexer": "ipython3",
   "version": "3.10.14"
  }
 },
 "nbformat": 4,
 "nbformat_minor": 2
}
